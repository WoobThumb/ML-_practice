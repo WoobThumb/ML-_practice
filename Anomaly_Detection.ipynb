{
 "cells": [
  {
   "attachments": {},
   "cell_type": "markdown",
   "metadata": {},
   "source": [
    "# Anomaly Detection: LOF, Isolation Forest \n"
   ]
  },
  {
   "attachments": {},
   "cell_type": "markdown",
   "metadata": {},
   "source": [
    "![](2.png)"
   ]
  },
  {
   "attachments": {},
   "cell_type": "markdown",
   "metadata": {},
   "source": [
    "모듈 \n"
   ]
  },
  {
   "cell_type": "code",
   "execution_count": 1,
   "metadata": {},
   "outputs": [],
   "source": [
    "# !pip install seaborn\n",
    "\n",
    "import numpy as np\n",
    "import pandas as pd \n",
    "import matplotlib.pylab as plt\n",
    "import seaborn as sns\n",
    "import scipy.io \n",
    "import warnings\n",
    "warnings.filterwarnings('ignore')"
   ]
  },
  {
   "attachments": {},
   "cell_type": "markdown",
   "metadata": {},
   "source": [
    "데이터셋"
   ]
  },
  {
   "attachments": {},
   "cell_type": "markdown",
   "metadata": {},
   "source": [
    "![](3.png)"
   ]
  },
  {
   "cell_type": "code",
   "execution_count": 2,
   "metadata": {},
   "outputs": [],
   "source": [
    "# data link: http://odds.cs.stonybrook.edu/shuttle-dataset/\n",
    "\n",
    "file = 'shuttle.mat'\n",
    "mat_file = scipy.io.loadmat(file)"
   ]
  },
  {
   "cell_type": "code",
   "execution_count": 1,
   "metadata": {},
   "outputs": [
    {
     "ename": "NameError",
     "evalue": "name 'pd' is not defined",
     "output_type": "error",
     "traceback": [
      "\u001b[0;31m---------------------------------------------------------------------------\u001b[0m",
      "\u001b[0;31mNameError\u001b[0m                                 Traceback (most recent call last)",
      "Cell \u001b[0;32mIn[1], line 1\u001b[0m\n\u001b[0;32m----> 1\u001b[0m data \u001b[39m=\u001b[39m pd\u001b[39m.\u001b[39mDataFrame(mat_file[\u001b[39m'\u001b[39m\u001b[39mX\u001b[39m\u001b[39m'\u001b[39m]) \u001b[39m#데이터확인\u001b[39;00m\n\u001b[1;32m      2\u001b[0m data[\u001b[39m'\u001b[39m\u001b[39my\u001b[39m\u001b[39m'\u001b[39m]\u001b[39m=\u001b[39mmat_file[\u001b[39m'\u001b[39m\u001b[39my\u001b[39m\u001b[39m'\u001b[39m]\n\u001b[1;32m      3\u001b[0m data\n",
      "\u001b[0;31mNameError\u001b[0m: name 'pd' is not defined"
     ]
    }
   ],
   "source": [
    "data = pd.DataFrame(mat_file['X']) #데이터확인\n",
    "data['y']=mat_file['y']\n",
    "data"
   ]
  },
  {
   "cell_type": "code",
   "execution_count": 4,
   "metadata": {},
   "outputs": [
    {
     "data": {
      "image/png": "[encoded data removed]",
      "text/plain": [
       "<Figure size 576x576 with 1 Axes>"
      ]
     },
     "metadata": {
      "needs_background": "light"
     },
     "output_type": "display_data"
    }
   ],
   "source": [
    "plt.figure(figsize=(8,8))\n",
    "plt.rcParams['axes.facecolor'] = 'white'\n",
    "ax= sns.countplot(x='y', data=data, palette='Pastel1')\n",
    "for p in ax.patches:\n",
    "    height = p.get_height()\n",
    "    ax.text(p.get_x() + p.get_width() / 2., height + 3, height, ha = 'center', size = 9)\n",
    "plt.tight_layout()"
   ]
  },
  {
   "cell_type": "code",
   "execution_count": 5,
   "metadata": {},
   "outputs": [],
   "source": [
    "data.to_csv('data_1.csv',index=False)"
   ]
  },
  {
   "attachments": {},
   "cell_type": "markdown",
   "metadata": {},
   "source": [
    "#### LOF (Local Outlier Factor)"
   ]
  },
  {
   "attachments": {},
   "cell_type": "markdown",
   "metadata": {},
   "source": [
    "#### 3-0. Model Evaluation "
   ]
  },
  {
   "attachments": {},
   "cell_type": "markdown",
   "metadata": {},
   "source": [
    "![](4.png)"
   ]
  },
  {
   "attachments": {},
   "cell_type": "markdown",
   "metadata": {},
   "source": [
    "![](5.png)"
   ]
  },
  {
   "attachments": {},
   "cell_type": "markdown",
   "metadata": {},
   "source": [
    "![](6.png)"
   ]
  },
  {
   "cell_type": "code",
   "execution_count": 6,
   "metadata": {},
   "outputs": [],
   "source": [
    "\n",
    "from sklearn.metrics import confusion_matrix, accuracy_score, precision_score, recall_score, f1_score\n",
    "\n",
    "\n",
    "def return_result(y_true, y_pred):\n",
    "    performance = {}\n",
    "    performance['acc'] = accuracy_score(y_true=y_true, y_pred=y_pred)\n",
    "    performance['precision_score'] = precision_score(y_true=y_true,y_pred=y_pred)\n",
    "    performance['recall_score'] = recall_score(y_true=y_true,y_pred=y_pred)\n",
    "    performance['f1_score'] = f1_score(y_true=y_true,y_pred=y_pred)\n",
    "    \n",
    "    return performance\n",
    "\n",
    "def cf_vis(y_true, y_pred):\n",
    "    cf = confusion_matrix(y_true, y_pred)\n",
    "    plt.figure(figsize=(8,8))\n",
    "    sns.heatmap(cf, annot=True, fmt='d', cmap='Pastel1')\n",
    "    \n",
    "    return cf"
   ]
  },
  {
   "attachments": {},
   "cell_type": "markdown",
   "metadata": {},
   "source": [
    "![](7.jpg)"
   ]
  },
  {
   "attachments": {},
   "cell_type": "markdown",
   "metadata": {},
   "source": [
    "#### 3-1. LOF From Scratch "
   ]
  },
  {
   "cell_type": "code",
   "execution_count": 7,
   "metadata": {},
   "outputs": [],
   "source": [
    "from sklearn.neighbors import NearestNeighbors\n",
    "\n",
    "def LOF(X, X_test, k):\n",
    "\n",
    "    knn = NearestNeighbors(n_neighbors=k)\n",
    "\n",
    "    knn.fit(X)\n",
    "    \n",
    "    # Gather the kth nearest neighbor distance\n",
    "    neighbors_and_distances = knn.kneighbors(X)\n",
    "    knn_distances = neighbors_and_distances[0]\n",
    "    neighbors = neighbors_and_distances[1]\n",
    "    kth_distance = [x[-1] for x in knn_distances] # len(kth_distance)=len(X)\n",
    "    \n",
    "    local_reach_density = []\n",
    "    for i in range(X.shape[0]):\n",
    "        pt = X[i]\n",
    "        sum_reachability = 0\n",
    "        neighbor_distances = knn_distances[i]\n",
    "        pt_neighbors = neighbors[i]\n",
    "        for neighbor_distance, neighbor_index in zip(neighbor_distances, pt_neighbors):\n",
    "            neighbors_kth_distance = kth_distance[neighbor_index]\n",
    "            sum_reachability = sum_reachability + max([neighbor_distance, neighbors_kth_distance])\n",
    "            \n",
    "        avg_reachability = sum_reachability / k\n",
    "        local_reach_density.append(1/avg_reachability)\n",
    "\n",
    "    local_reach_density = np.array(local_reach_density) # len(local_reach_density)=len(X)\n",
    "    lofs = []\n",
    "    for i in range(X_test.shape[0]):\n",
    "        pt = X_test[i]\n",
    "        avg_lrd = np.mean(local_reach_density[neighbors[i]])\n",
    "        lofs.append(avg_lrd/local_reach_density[i])\n",
    "        \n",
    "    return lofs"
   ]
  },
  {
   "cell_type": "code",
   "execution_count": 8,
   "metadata": {},
   "outputs": [
    {
     "name": "stdout",
     "output_type": "stream",
     "text": [
      "acc : 0.9076714188730483\n",
      "precision_score : 0.08174386920980926\n",
      "recall_score : 0.02849002849002849\n",
      "f1_score : 0.04225352112676056\n"
     ]
    },
    {
     "data": {
      "image/png": "[encoded data removed]",
      "text/plain": [
       "<Figure size 576x576 with 2 Axes>"
      ]
     },
     "metadata": {
      "needs_background": "light"
     },
     "output_type": "display_data"
    }
   ],
   "source": [
    "from sklearn.model_selection import train_test_split\n",
    "\n",
    "def run_LOF(name):\n",
    "    data = pd.read_csv(name)\n",
    "    X = data.iloc[:, :-1].values\n",
    "    y = data.iloc[:, -1]\n",
    "    \n",
    "    X_train, X_test, y_train, y_test = train_test_split(X, y, test_size=0.3, stratify=y, random_state=42)\n",
    "        \n",
    "    lof = LOF(X_train, X_test, 10)\n",
    "    lof = np.array(lof)\n",
    "    pred = np.where(lof>=1.5,1,0)\n",
    "    \n",
    "    performance = return_result(y_test, pred)\n",
    "    \n",
    "    cf_vis(y_test, pred)\n",
    "\n",
    "    for k, v in performance.items():\n",
    "        print(k, ':', v)\n",
    "        \n",
    "run_LOF('data_1.csv')"
   ]
  },
  {
   "attachments": {},
   "cell_type": "markdown",
   "metadata": {},
   "source": [
    "#### 3-2. LOF with GridSearch"
   ]
  },
  {
   "cell_type": "code",
   "execution_count": 9,
   "metadata": {},
   "outputs": [
    {
     "name": "stdout",
     "output_type": "stream",
     "text": [
      "Fitting 10 folds for each of 6 candidates, totalling 60 fits\n",
      "Best params: {'n_neighbors': 5, 'p': 1}\n",
      "acc : 0.8826205023761032\n",
      "precision_score : 0.12938596491228072\n",
      "recall_score : 0.1120607787274454\n",
      "f1_score : 0.12010178117048347\n"
     ]
    },
    {
     "data": {
      "image/png": "[encoded data removed]",
      "text/plain": [
       "<Figure size 576x576 with 2 Axes>"
      ]
     },
     "metadata": {
      "needs_background": "light"
     },
     "output_type": "display_data"
    }
   ],
   "source": [
    "from sklearn.neighbors import LocalOutlierFactor\n",
    "from sklearn.model_selection import GridSearchCV\n",
    "\n",
    "def LOF_Search(name):\n",
    "    data = pd.read_csv(name)\n",
    "    X = data.iloc[:, :-1]\n",
    "    y = data.iloc[:, -1]\n",
    "    model = LocalOutlierFactor()\n",
    "\n",
    "    X_train, X_test, y_train, y_test = train_test_split(X, y, test_size=0.3, stratify=y, random_state=42)\n",
    "    \n",
    "\n",
    "    param_grid = {'n_neighbors': [5, 10, 20], \n",
    "                        'p': [1, 2]}\n",
    "        \n",
    "    grid_search = GridSearchCV(model,param_grid,scoring=\"accuracy\", refit=True,cv=10, return_train_score=True, verbose=1)\n",
    "\n",
    "    grid_search.fit(X_train, y_train)\n",
    "        \n",
    "    best_params = grid_search.best_params_\n",
    "    print(f\"Best params: {best_params}\")\n",
    "        \n",
    "    if_clf = LocalOutlierFactor(**best_params)\n",
    "    if_clf.fit(X_train, y_train)\n",
    "\n",
    "    y_pred = if_clf.fit_predict(X_test)\n",
    "    pred = np.where(y_pred<=-1,1,0)\n",
    "    \n",
    "    performance = return_result(y_test, pred)\n",
    "    \n",
    "    cf_vis(y_test, pred)\n",
    "\n",
    "    for k, v in performance.items():\n",
    "        print(k, ':', v)\n",
    "\n",
    "LOF_Search('data_1.csv')"
   ]
  },
  {
   "attachments": {},
   "cell_type": "markdown",
   "metadata": {},
   "source": [
    "#### 4. Isolation Forest"
   ]
  },
  {
   "attachments": {},
   "cell_type": "markdown",
   "metadata": {},
   "source": [
    "![](8.jpg)"
   ]
  },
  {
   "attachments": {},
   "cell_type": "markdown",
   "metadata": {},
   "source": [
    "#### 4-1. Isolation Forest From Scratch"
   ]
  },
  {
   "cell_type": "code",
   "execution_count": 10,
   "metadata": {},
   "outputs": [],
   "source": [
    "import random\n",
    "\n",
    "def select_feature(data):\n",
    "    return random.choice(data.columns)\n",
    "\n",
    "def select_value(data, feat):\n",
    "    mini = data[feat].min()\n",
    "    maxi = data[feat].max()\n",
    "    return (maxi-mini)*np.random.random()+mini\n",
    "\n",
    "def split_data(data, split_column, split_value):\n",
    "    data_below = data[data[split_column] <= split_value]\n",
    "    data_above = data[data[split_column] > split_value]\n",
    "\n",
    "    return data_below, data_above\n",
    "\n",
    "def classify_data(data):\n",
    "\n",
    "    label_column = data.values[:,]\n",
    "    unique_classes, counts_unique_classes = np.unique(label_column, return_counts=True)\n",
    "\n",
    "    index = counts_unique_classes.argmax()\n",
    "    classification = unique_classes[index]\n",
    "\n",
    "    return classification"
   ]
  },
  {
   "cell_type": "code",
   "execution_count": 11,
   "metadata": {},
   "outputs": [],
   "source": [
    "def isolation_tree(data, counter=0, max_depth=50):\n",
    "    if data.empty ==False: \n",
    "        # End Loop if max depth or isolated\n",
    "        if (counter == max_depth) or data.shape[0] == 1:\n",
    "            classification = classify_data(data)\n",
    "            return classification\n",
    "        else:\n",
    "            # Counter\n",
    "            counter += 1\n",
    "\n",
    "            # Select feature\n",
    "            split_column = select_feature(data)\n",
    "\n",
    "            # Select value\n",
    "            split_value = select_value(data, split_column)\n",
    "            # Split data\n",
    "            data_below, data_above = split_data(data, split_column, split_value)\n",
    "\n",
    "            # instantiate sub-tree\n",
    "            question = \"{} <= {}\".format(split_column, split_value)\n",
    "            sub_tree = {question: []}\n",
    "\n",
    "            # Recursive part\n",
    "            below_answer = isolation_tree(data_below, counter, max_depth=max_depth)\n",
    "            above_answer = isolation_tree(data_above, counter, max_depth=max_depth)\n",
    "\n",
    "            if below_answer == above_answer:\n",
    "                sub_tree = below_answer\n",
    "            else:\n",
    "                sub_tree[question].append(below_answer)\n",
    "                sub_tree[question].append(above_answer)\n",
    "\n",
    "        return sub_tree"
   ]
  },
  {
   "cell_type": "code",
   "execution_count": 12,
   "metadata": {},
   "outputs": [],
   "source": [
    "def isolation_forest(df, n_trees, max_depth, subspace):\n",
    "    forest = []\n",
    "    for i in range(n_trees):\n",
    "        # Sample the subspace\n",
    "        if subspace <= 1:\n",
    "            df = df.sample(frac=subspace)\n",
    "        else:\n",
    "            df = df.sample(subspace)\n",
    "        # Fit tree\n",
    "        tree = isolation_tree(df, max_depth=max_depth)\n",
    "\n",
    "        # Save tree to forest\n",
    "        forest.append(tree)\n",
    "\n",
    "    return forest"
   ]
  },
  {
   "cell_type": "code",
   "execution_count": 13,
   "metadata": {},
   "outputs": [],
   "source": [
    "def pathLength(example, iTree, path=0, trace=False):\n",
    "    # Initialize question and counter\n",
    "    path = path+1\n",
    "    question = list(iTree.keys())[0]\n",
    "    feature_name, comparison_operator, value = question.split()\n",
    "\n",
    "    # ask question\n",
    "    if example[feature_name].values <= float(value):\n",
    "        answer = iTree[question][0]\n",
    "    else:\n",
    "        answer = iTree[question][1]\n",
    "\n",
    "    # base case\n",
    "    if not isinstance(answer, dict):\n",
    "        return path\n",
    "\n",
    "    # recursive part\n",
    "    else:\n",
    "        residual_tree = answer\n",
    "        return pathLength(example, residual_tree, path=path)\n",
    "\n",
    "    return path\n",
    "\n",
    "# Evaluate Distance\n",
    "def evaluate_instance(instance, forest):\n",
    "    paths = []\n",
    "    for tree in forest:\n",
    "        paths.append(pathLength(instance, tree))\n",
    "    return paths\n",
    "\n",
    "# C_factor\n",
    "def c_factor(n):\n",
    "    return 2.0*(np.log(n-1)+0.5772156649) - (2.0*(n-1.)/(n*1.0))\n"
   ]
  },
  {
   "cell_type": "code",
   "execution_count": 14,
   "metadata": {},
   "outputs": [],
   "source": [
    "def anomaly_score(data_point, forest, n):\n",
    "\n",
    "    # Mean depth for an instance\n",
    "    E = np.mean(evaluate_instance(data_point, forest))\n",
    "\n",
    "    c = c_factor(n)\n",
    "\n",
    "    return 2**-(E/c)"
   ]
  },
  {
   "cell_type": "code",
   "execution_count": 15,
   "metadata": {},
   "outputs": [
    {
     "name": "stdout",
     "output_type": "stream",
     "text": [
      "acc : 0.9778004073319756\n",
      "precision_score : 0.7770992366412214\n",
      "recall_score : 0.9667616334283001\n",
      "f1_score : 0.8616165890816758\n"
     ]
    },
    {
     "data": {
      "image/png": "[encoded data removed]",
      "text/plain": [
       "<Figure size 576x576 with 2 Axes>"
      ]
     },
     "metadata": {
      "needs_background": "light"
     },
     "output_type": "display_data"
    }
   ],
   "source": [
    "def run_IF(name):\n",
    "    data = pd.read_csv(name)\n",
    "    X = data.iloc[:, :-1]\n",
    "    y = data.iloc[:, -1]\n",
    "    \n",
    "    X_train, X_test, y_train, y_test = train_test_split(X, y, test_size=0.3, stratify=y, random_state=42)\n",
    "        \n",
    "    iForest = isolation_forest(X_train, n_trees=20, max_depth=100, subspace=256)\n",
    "    pred = []\n",
    "    for i in range(X_test.shape[0]):\n",
    "        pred.append(anomaly_score(X_test.iloc[[i]], iForest, 256))\n",
    "        \n",
    "    pred = np.array(pred)\n",
    "    pred[pred >= 0.5] = 1\n",
    "    pred[pred < 0.5] = 0\n",
    "    \n",
    "    performance = return_result(y_test, pred)\n",
    "    \n",
    "    cf_vis(y_test, pred)\n",
    "\n",
    "    for k, v in performance.items():\n",
    "        print(k, ':', v)\n",
    "        \n",
    "run_IF('data_1.csv')"
   ]
  },
  {
   "attachments": {},
   "cell_type": "markdown",
   "metadata": {},
   "source": [
    "#### 4-2. Isolation Forest with GridSearch"
   ]
  },
  {
   "cell_type": "code",
   "execution_count": 16,
   "metadata": {},
   "outputs": [
    {
     "name": "stdout",
     "output_type": "stream",
     "text": [
      "Fitting 10 folds for each of 8 candidates, totalling 80 fits\n",
      "Best params: {'max_features': 2, 'n_estimators': 1000}\n",
      "acc : 0.9654446707399864\n",
      "precision_score : 0.678477690288714\n",
      "recall_score : 0.9819563152896487\n",
      "f1_score : 0.8024835079549865\n"
     ]
    },
    {
     "data": {
      "image/png": "[encoded data removed]",
      "text/plain": [
       "<Figure size 576x576 with 2 Axes>"
      ]
     },
     "metadata": {
      "needs_background": "light"
     },
     "output_type": "display_data"
    }
   ],
   "source": [
    "from sklearn.ensemble import IsolationForest\n",
    "\n",
    "def IF_Search(name):\n",
    "    data = pd.read_csv(name)\n",
    "    X = data.iloc[:, :-1]\n",
    "    y = data.iloc[:, -1]\n",
    "    \n",
    "    model = IsolationForest()\n",
    "\n",
    "    X_train, X_test, y_train, y_test = train_test_split(X, y, test_size=0.3, stratify=y, random_state=42)\n",
    "    \n",
    "\n",
    "    param_grid = {'n_estimators': [1000, 1500], \n",
    "                    'max_features': [2, 4, 6, 8]}\n",
    "        \n",
    "    grid_search = GridSearchCV(model,param_grid, scoring=\"accuracy\", refit=True,cv=10, return_train_score=True, verbose=1)\n",
    "\n",
    "    grid_search.fit(X_train, y_train)\n",
    "        \n",
    "    best_params = grid_search.best_params_\n",
    "    print(f\"Best params: {best_params}\")\n",
    "        \n",
    "    if_clf = IsolationForest(**best_params)\n",
    "    if_clf.fit(X_train, y_train)\n",
    "\n",
    "    y_pred = if_clf.fit_predict(X_test)\n",
    "    pred = np.where(y_pred<=-1,1,0)\n",
    "    \n",
    "    performance = return_result(y_test, pred)\n",
    "    \n",
    "    cf_vis(y_test, pred)\n",
    "\n",
    "    for k, v in performance.items():\n",
    "        print(k, ':', v)\n",
    "\n",
    "IF_Search('data_1.csv')"
   ]
  },
  {
   "attachments": {},
   "cell_type": "markdown",
   "metadata": {},
   "source": [
    "### EOD"
   ]
  }
 ],
 "metadata": {
  "kernelspec": {
   "display_name": "Python 3.9.7 64-bit",
   "language": "python",
   "name": "python3"
  },
  "language_info": {
   "codemirror_mode": {
    "name": "ipython",
    "version": 3
   },
   "file_extension": ".py",
   "mimetype": "text/x-python",
   "name": "python",
   "nbconvert_exporter": "python",
   "pygments_lexer": "ipython3",
   "version": "3.10.12"
  },
  "orig_nbformat": 4,
  "vscode": {
   "interpreter": {
    "hash": "2ac517b325160d7445a2a7ce8030638cf27af50eaddf933e938486809902208e"
   }
  }
 },
 "nbformat": 4,
 "nbformat_minor": 2
}
