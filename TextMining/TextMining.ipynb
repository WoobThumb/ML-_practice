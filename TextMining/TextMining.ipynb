{
 "cells": [
  {
   "cell_type": "code",
   "execution_count": 1,
   "metadata": {},
   "outputs": [
    {
     "data": {
      "text/html": [
       "<div>\n",
       "<style scoped>\n",
       "    .dataframe tbody tr th:only-of-type {\n",
       "        vertical-align: middle;\n",
       "    }\n",
       "\n",
       "    .dataframe tbody tr th {\n",
       "        vertical-align: top;\n",
       "    }\n",
       "\n",
       "    .dataframe thead th {\n",
       "        text-align: right;\n",
       "    }\n",
       "</style>\n",
       "<table border=\"1\" class=\"dataframe\">\n",
       "  <thead>\n",
       "    <tr style=\"text-align: right;\">\n",
       "      <th></th>\n",
       "      <th>dise_id</th>\n",
       "      <th>dise_cls_cd</th>\n",
       "      <th>dise_nm</th>\n",
       "      <th>ntcd</th>\n",
       "      <th>patent_id</th>\n",
       "      <th>patent_apnumb</th>\n",
       "      <th>patent_rgno</th>\n",
       "      <th>patent_applc_ymd</th>\n",
       "      <th>patent_rgstn_ymd</th>\n",
       "      <th>curnt_patent_rgprs_group_nm</th>\n",
       "      <th>patent_invnm_subject</th>\n",
       "      <th>patent_abstc</th>\n",
       "    </tr>\n",
       "  </thead>\n",
       "  <tbody>\n",
       "    <tr>\n",
       "      <th>0</th>\n",
       "      <td>211523</td>\n",
       "      <td>A00-A09</td>\n",
       "      <td>장감염질환</td>\n",
       "      <td>US</td>\n",
       "      <td>US000000H1985H1</td>\n",
       "      <td>07/818600</td>\n",
       "      <td>H1985</td>\n",
       "      <td>19920109</td>\n",
       "      <td>20010807.0</td>\n",
       "      <td>United States Navy</td>\n",
       "      <td>Method for detecting biological toxins</td>\n",
       "      <td>Biological toxins are indirectly detected by u...</td>\n",
       "    </tr>\n",
       "    <tr>\n",
       "      <th>1</th>\n",
       "      <td>211523</td>\n",
       "      <td>A00-A09</td>\n",
       "      <td>장감염질환</td>\n",
       "      <td>US</td>\n",
       "      <td>US00004002741B</td>\n",
       "      <td>05/637827</td>\n",
       "      <td>4002741</td>\n",
       "      <td>19751204</td>\n",
       "      <td>19770111.0</td>\n",
       "      <td>Ekzemplyarov; Oleg Nikolaevich|Kulbakh; Valter...</td>\n",
       "      <td>Meglumine complex fungicidal polyene macrolide...</td>\n",
       "      <td>&lt;p&gt;Medicated compositions which contain as act...</td>\n",
       "    </tr>\n",
       "    <tr>\n",
       "      <th>2</th>\n",
       "      <td>211523</td>\n",
       "      <td>A00-A09</td>\n",
       "      <td>장감염질환</td>\n",
       "      <td>US</td>\n",
       "      <td>US00004020166B</td>\n",
       "      <td>05/637312</td>\n",
       "      <td>4020166</td>\n",
       "      <td>19751203</td>\n",
       "      <td>19770426.0</td>\n",
       "      <td>Sandoz</td>\n",
       "      <td>Haloalkyl esters of 5-nitroimidazole-1-carboxy...</td>\n",
       "      <td>&lt;p&gt;This invention provides compounds of the fo...</td>\n",
       "    </tr>\n",
       "  </tbody>\n",
       "</table>\n",
       "</div>"
      ],
      "text/plain": [
       "   dise_id dise_cls_cd dise_nm ntcd        patent_id patent_apnumb  \\\n",
       "0   211523     A00-A09   장감염질환   US  US000000H1985H1     07/818600   \n",
       "1   211523     A00-A09   장감염질환   US   US00004002741B     05/637827   \n",
       "2   211523     A00-A09   장감염질환   US   US00004020166B     05/637312   \n",
       "\n",
       "  patent_rgno  patent_applc_ymd  patent_rgstn_ymd  \\\n",
       "0       H1985          19920109        20010807.0   \n",
       "1     4002741          19751204        19770111.0   \n",
       "2     4020166          19751203        19770426.0   \n",
       "\n",
       "                         curnt_patent_rgprs_group_nm  \\\n",
       "0                                 United States Navy   \n",
       "1  Ekzemplyarov; Oleg Nikolaevich|Kulbakh; Valter...   \n",
       "2                                             Sandoz   \n",
       "\n",
       "                                patent_invnm_subject  \\\n",
       "0             Method for detecting biological toxins   \n",
       "1  Meglumine complex fungicidal polyene macrolide...   \n",
       "2  Haloalkyl esters of 5-nitroimidazole-1-carboxy...   \n",
       "\n",
       "                                        patent_abstc  \n",
       "0  Biological toxins are indirectly detected by u...  \n",
       "1  <p>Medicated compositions which contain as act...  \n",
       "2  <p>This invention provides compounds of the fo...  "
      ]
     },
     "execution_count": 1,
     "metadata": {},
     "output_type": "execute_result"
    }
   ],
   "source": [
    "import pandas as pd\n",
    "df = pd.read_csv(\"텍스트 데이터.csv\", encoding='cp949')\n",
    "df.head(3)"
   ]
  },
  {
   "cell_type": "code",
   "execution_count": 2,
   "metadata": {},
   "outputs": [
    {
     "data": {
      "text/plain": [
       "(184208, 12)"
      ]
     },
     "execution_count": 2,
     "metadata": {},
     "output_type": "execute_result"
    }
   ],
   "source": [
    "df.shape"
   ]
  },
  {
   "cell_type": "code",
   "execution_count": 3,
   "metadata": {},
   "outputs": [],
   "source": [
    "df1=df.head(2000)"
   ]
  },
  {
   "cell_type": "code",
   "execution_count": 7,
   "metadata": {},
   "outputs": [
    {
     "data": {
      "text/plain": [
       "0                  Method for detecting biological toxins\n",
       "1       Meglumine complex fungicidal polyene macrolide...\n",
       "2       Haloalkyl esters of 5-nitroimidazole-1-carboxy...\n",
       "3                                           Cell cultures\n",
       "4                        Anti-diarrheal anthranilic acids\n",
       "                              ...                        \n",
       "1995    METHODS AND COMPOSITIONS FOR MODULATING THE IM...\n",
       "1996          Neisseria meningitidis lgtb Los as Adjuvant\n",
       "1997    Injectable controlled release fluid delivery s...\n",
       "1998    Composition for Adjuvant Containing Poly-Gamma...\n",
       "1999    Compositions and methods for identifying, isol...\n",
       "Name: patent_invnm_subject, Length: 2000, dtype: object"
      ]
     },
     "execution_count": 7,
     "metadata": {},
     "output_type": "execute_result"
    }
   ],
   "source": [
    "df1['patent_invnm_subject']"
   ]
  },
  {
   "cell_type": "code",
   "execution_count": 15,
   "metadata": {},
   "outputs": [
    {
     "name": "stderr",
     "output_type": "stream",
     "text": [
      "/var/folders/j3/992wd9_x5fq2gr2t98g4wr3m0000gn/T/ipykernel_2405/1427417700.py:1: SettingWithCopyWarning: \n",
      "A value is trying to be set on a copy of a slice from a DataFrame\n",
      "\n",
      "See the caveats in the documentation: https://pandas.pydata.org/pandas-docs/stable/user_guide/indexing.html#returning-a-view-versus-a-copy\n",
      "  df1.rename(columns={'patent_invnm_subject':'subject'}, inplace=True)\n"
     ]
    },
    {
     "data": {
      "text/html": [
       "<div>\n",
       "<style scoped>\n",
       "    .dataframe tbody tr th:only-of-type {\n",
       "        vertical-align: middle;\n",
       "    }\n",
       "\n",
       "    .dataframe tbody tr th {\n",
       "        vertical-align: top;\n",
       "    }\n",
       "\n",
       "    .dataframe thead th {\n",
       "        text-align: right;\n",
       "    }\n",
       "</style>\n",
       "<table border=\"1\" class=\"dataframe\">\n",
       "  <thead>\n",
       "    <tr style=\"text-align: right;\">\n",
       "      <th></th>\n",
       "      <th>dise_id</th>\n",
       "      <th>dise_cls_cd</th>\n",
       "      <th>dise_nm</th>\n",
       "      <th>ntcd</th>\n",
       "      <th>patent_id</th>\n",
       "      <th>patent_apnumb</th>\n",
       "      <th>patent_rgno</th>\n",
       "      <th>patent_applc_ymd</th>\n",
       "      <th>patent_rgstn_ymd</th>\n",
       "      <th>curnt_patent_rgprs_group_nm</th>\n",
       "      <th>subject</th>\n",
       "      <th>patent_abstc</th>\n",
       "    </tr>\n",
       "  </thead>\n",
       "  <tbody>\n",
       "    <tr>\n",
       "      <th>0</th>\n",
       "      <td>211523</td>\n",
       "      <td>A00-A09</td>\n",
       "      <td>장감염질환</td>\n",
       "      <td>US</td>\n",
       "      <td>US000000H1985H1</td>\n",
       "      <td>07/818600</td>\n",
       "      <td>H1985</td>\n",
       "      <td>19920109</td>\n",
       "      <td>20010807.0</td>\n",
       "      <td>United States Navy</td>\n",
       "      <td>Method for detecting biological toxins</td>\n",
       "      <td>Biological toxins are indirectly detected by u...</td>\n",
       "    </tr>\n",
       "    <tr>\n",
       "      <th>1</th>\n",
       "      <td>211523</td>\n",
       "      <td>A00-A09</td>\n",
       "      <td>장감염질환</td>\n",
       "      <td>US</td>\n",
       "      <td>US00004002741B</td>\n",
       "      <td>05/637827</td>\n",
       "      <td>4002741</td>\n",
       "      <td>19751204</td>\n",
       "      <td>19770111.0</td>\n",
       "      <td>Ekzemplyarov; Oleg Nikolaevich|Kulbakh; Valter...</td>\n",
       "      <td>Meglumine complex fungicidal polyene macrolide...</td>\n",
       "      <td>&lt;p&gt;Medicated compositions which contain as act...</td>\n",
       "    </tr>\n",
       "    <tr>\n",
       "      <th>2</th>\n",
       "      <td>211523</td>\n",
       "      <td>A00-A09</td>\n",
       "      <td>장감염질환</td>\n",
       "      <td>US</td>\n",
       "      <td>US00004020166B</td>\n",
       "      <td>05/637312</td>\n",
       "      <td>4020166</td>\n",
       "      <td>19751203</td>\n",
       "      <td>19770426.0</td>\n",
       "      <td>Sandoz</td>\n",
       "      <td>Haloalkyl esters of 5-nitroimidazole-1-carboxy...</td>\n",
       "      <td>&lt;p&gt;This invention provides compounds of the fo...</td>\n",
       "    </tr>\n",
       "  </tbody>\n",
       "</table>\n",
       "</div>"
      ],
      "text/plain": [
       "   dise_id dise_cls_cd dise_nm ntcd        patent_id patent_apnumb  \\\n",
       "0   211523     A00-A09   장감염질환   US  US000000H1985H1     07/818600   \n",
       "1   211523     A00-A09   장감염질환   US   US00004002741B     05/637827   \n",
       "2   211523     A00-A09   장감염질환   US   US00004020166B     05/637312   \n",
       "\n",
       "  patent_rgno  patent_applc_ymd  patent_rgstn_ymd  \\\n",
       "0       H1985          19920109        20010807.0   \n",
       "1     4002741          19751204        19770111.0   \n",
       "2     4020166          19751203        19770426.0   \n",
       "\n",
       "                         curnt_patent_rgprs_group_nm  \\\n",
       "0                                 United States Navy   \n",
       "1  Ekzemplyarov; Oleg Nikolaevich|Kulbakh; Valter...   \n",
       "2                                             Sandoz   \n",
       "\n",
       "                                             subject  \\\n",
       "0             Method for detecting biological toxins   \n",
       "1  Meglumine complex fungicidal polyene macrolide...   \n",
       "2  Haloalkyl esters of 5-nitroimidazole-1-carboxy...   \n",
       "\n",
       "                                        patent_abstc  \n",
       "0  Biological toxins are indirectly detected by u...  \n",
       "1  <p>Medicated compositions which contain as act...  \n",
       "2  <p>This invention provides compounds of the fo...  "
      ]
     },
     "execution_count": 15,
     "metadata": {},
     "output_type": "execute_result"
    }
   ],
   "source": [
    "df1.rename(columns={'patent_invnm_subject':'subject'}, inplace=True)\n",
    "df1.head(3)"
   ]
  },
  {
   "cell_type": "code",
   "execution_count": 20,
   "metadata": {},
   "outputs": [],
   "source": [
    "#형태소 분리\n",
    "import spacy\n",
    "nip = spacy.load('en_core_web_sm')\n",
    "\n",
    "\n",
    "\n",
    "def extract_n(text):\n",
    "    doc = nip(text)\n",
    "    words=[]\n",
    "    for token in doc:\n",
    "        if token.tag_[0] in 'NVA': # 첫 글자가 Noun, Verb, Adjective 중 하나인 경우 선택\n",
    "            words.append(token.lemma_) #형태소 원형을 words에 추가\n",
    "    return words"
   ]
  },
  {
   "cell_type": "code",
   "execution_count": 21,
   "metadata": {},
   "outputs": [
    {
     "data": {
      "text/plain": [
       "0                                 [Method, detect, toxin]\n",
       "1       [fungicidal, polyene, macrolide, composition, ...\n",
       "2                    [Haloalkyl, ester, acid, derivative]\n",
       "3                                         [cell, culture]\n",
       "4                                     [anthranilic, acid]\n",
       "                              ...                        \n",
       "1995    [METHODS, composition, MODULATING, IMMUNE, sys...\n",
       "1996       [Neisseria, meningitidis, lgtb, Los, Adjuvant]\n",
       "1997     [Injectable, control, release, delivery, system]\n",
       "1998    [composition, Adjuvant, Containing, Poly, Gamm...\n",
       "1999    [composition, method, identify, isolate, enric...\n",
       "Name: subject, Length: 2000, dtype: object"
      ]
     },
     "execution_count": 21,
     "metadata": {},
     "output_type": "execute_result"
    }
   ],
   "source": [
    "df1['subject'].apply(extract_n)"
   ]
  },
  {
   "cell_type": "code",
   "execution_count": 22,
   "metadata": {},
   "outputs": [],
   "source": [
    "from sklearn.feature_extraction.text import CountVectorizer\n"
   ]
  },
  {
   "cell_type": "code",
   "execution_count": 28,
   "metadata": {},
   "outputs": [],
   "source": [
    "cv=CountVectorizer(max_features= 10000) #단어 빈도수 추출\n",
    "dtm=cv.fit_transform(df1['subject']) # 문서-단어 행렬 생성\n",
    "\n"
   ]
  },
  {
   "cell_type": "code",
   "execution_count": null,
   "metadata": {},
   "outputs": [],
   "source": [
    "word_count_tf=pd.DataFrame({'단어':cv)"
   ]
  }
 ],
 "metadata": {
  "kernelspec": {
   "display_name": "Python 3",
   "language": "python",
   "name": "python3"
  },
  "language_info": {
   "codemirror_mode": {
    "name": "ipython",
    "version": 3
   },
   "file_extension": ".py",
   "mimetype": "text/x-python",
   "name": "python",
   "nbconvert_exporter": "python",
   "pygments_lexer": "ipython3",
   "version": "3.11.4"
  },
  "orig_nbformat": 4
 },
 "nbformat": 4,
 "nbformat_minor": 2
}
